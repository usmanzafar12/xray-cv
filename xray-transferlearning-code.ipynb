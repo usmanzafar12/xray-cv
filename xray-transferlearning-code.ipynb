{
 "cells": [
  {
   "cell_type": "markdown",
   "metadata": {},
   "source": [
    "### Importing relevant libraries "
   ]
  },
  {
   "cell_type": "code",
   "execution_count": null,
   "metadata": {},
   "outputs": [],
   "source": [
    "import torchxrayvision as xrv\n",
    "import numpy as np\n",
    "import pandas as pd\n",
    "from sklearn.model_selection import train_test_split, StratifiedShuffleSplit"
   ]
  },
  {
   "cell_type": "code",
   "execution_count": null,
   "metadata": {},
   "outputs": [],
   "source": [
    "from torchvision import transforms\n",
    "from torch.utils import data\n",
    "import torch\n",
    "import time, copy\n",
    "import random"
   ]
  },
  {
   "cell_type": "code",
   "execution_count": null,
   "metadata": {},
   "outputs": [],
   "source": [
    "from torchvision.transforms.functional import normalize, resize, to_tensor, to_pil_image\n",
    "from torchvision import models\n",
    "import torch.nn as nn\n",
    "import torch.optim as optim\n",
    "from torch.optim import lr_scheduler"
   ]
  },
  {
   "cell_type": "code",
   "execution_count": null,
   "metadata": {},
   "outputs": [],
   "source": [
    "import matplotlib.pyplot as plt\n",
    "%matplotlib inline"
   ]
  },
  {
   "cell_type": "markdown",
   "metadata": {},
   "source": [
    "### Custom Classes for preprocessing "
   ]
  },
  {
   "cell_type": "code",
   "execution_count": null,
   "metadata": {},
   "outputs": [],
   "source": [
    "class TransformToPil:\n",
    "    def __init__(self):\n",
    "        pass\n",
    "    \n",
    "    def __call__(self, t):\n",
    "        shp = t.shape\n",
    "        #print(t.shape)\n",
    "        t = t.reshape(shp[1], shp[2], 1)\n",
    "        #print(t.shape)\n",
    "        return np.tile(t, (1,1,3))\n",
    "    \n",
    "class Rescale:\n",
    "    def __init__(self):\n",
    "        pass\n",
    "    \n",
    "    def __call__(self, t):\n",
    "        #print(t.shape)\n",
    "        return t/255\n",
    "\n",
    "class ToGray:\n",
    "    def __init__(self):\n",
    "        pass\n",
    "    \n",
    "    def __call__(self, t):\n",
    "        #print(t)\n",
    "        temp = t[1,:,:].reshape(1,t.shape[1],t.shape[2])\n",
    "        #print(\"Hello\")\n",
    "        #print(temp.shape)\n",
    "        return temp"
   ]
  },
  {
   "cell_type": "code",
   "execution_count": null,
   "metadata": {},
   "outputs": [],
   "source": []
  },
  {
   "cell_type": "code",
   "execution_count": null,
   "metadata": {},
   "outputs": [],
   "source": [
    "image_transformer = transforms.Compose([\n",
    "                    TransformToPil(),\n",
    "                    transforms.ToTensor(),\n",
    "                    transforms.ToPILImage(),\n",
    "                    transforms.Resize((256,256)),\n",
    "                    transforms.CenterCrop(224),\n",
    "                    transforms.ToTensor(),\n",
    "                    transforms.Normalize([0.485, 0.456, 0.406], [0.229, 0.224, 0.225]),\n",
    "                    ToGray()\n",
    "        ])"
   ]
  },
  {
   "cell_type": "code",
   "execution_count": null,
   "metadata": {},
   "outputs": [],
   "source": []
  },
  {
   "cell_type": "markdown",
   "metadata": {},
   "source": [
    "### Reading Datasets "
   ]
  },
  {
   "cell_type": "code",
   "execution_count": null,
   "metadata": {},
   "outputs": [],
   "source": [
    "all_data = xrv.datasets.COVID19_Dataset(imgpath='images\\\\', transform=image_transformer, csvpath='metadata.csv')\n",
    "mat = all_data.labels\n",
    "covid_labels = mat[:,2]\n",
    "\n",
    "all_data.labels = covid_labels\n",
    "stlabels = all_data.labels\n",
    "\n",
    "x_train, x_test, y_train, y_test = train_test_split(list(range(149)),stlabels, test_size=.2, stratify=stlabels)\n",
    "x_train, x_val, y_train, y_val = train_test_split(x_train, y_train, test_size=.2, stratify=y_train)"
   ]
  },
  {
   "cell_type": "code",
   "execution_count": null,
   "metadata": {},
   "outputs": [],
   "source": [
    "sum(y_test)/len(y_test)"
   ]
  },
  {
   "cell_type": "code",
   "execution_count": null,
   "metadata": {},
   "outputs": [],
   "source": [
    "sum(y_train)/len(y_train)"
   ]
  },
  {
   "cell_type": "code",
   "execution_count": null,
   "metadata": {},
   "outputs": [],
   "source": [
    "sum(y_val/len(y_val))"
   ]
  },
  {
   "cell_type": "markdown",
   "metadata": {},
   "source": [
    "## getting  statistics about our dataset"
   ]
  },
  {
   "cell_type": "code",
   "execution_count": null,
   "metadata": {},
   "outputs": [],
   "source": [
    "# class labels\n",
    "all_data.pathologies"
   ]
  },
  {
   "cell_type": "markdown",
   "metadata": {},
   "source": [
    "###  103 +ve, 46 -ve cases in dataset"
   ]
  },
  {
   "cell_type": "code",
   "execution_count": null,
   "metadata": {},
   "outputs": [],
   "source": [
    "# Splitting data for dataloaders in pytorch\n",
    "st_train = data.SubsetRandomSampler(x_train)\n",
    "params_train = {'batch_size': 16,\n",
    "          'shuffle': False,\n",
    "          'num_workers': 0,\n",
    "           'sampler': st_train}\n",
    "st_val = data.SubsetRandomSampler(x_val)\n",
    "params_val = { 'shuffle': False,\n",
    "          'num_workers': 0,\n",
    "           'sampler': st_val}\n",
    "max_epochs = 100\n"
   ]
  },
  {
   "cell_type": "code",
   "execution_count": null,
   "metadata": {},
   "outputs": [],
   "source": [
    "dataloaders = {}\n",
    "dataloaders['train'] = data.DataLoader(all_data, **params_train)\n",
    "dataloaders['val'] = data.DataLoader(all_data, **params_val)"
   ]
  },
  {
   "cell_type": "code",
   "execution_count": null,
   "metadata": {},
   "outputs": [],
   "source": [
    "dataset_sizes = {}\n",
    "dataset_sizes['train'] = len(st_train)\n",
    "dataset_sizes['val'] = len(st_val)"
   ]
  },
  {
   "cell_type": "markdown",
   "metadata": {},
   "source": [
    "### Trying out various architectures for transfer learning "
   ]
  },
  {
   "cell_type": "code",
   "execution_count": null,
   "metadata": {},
   "outputs": [],
   "source": [
    "#tlmod = torch.hub.load('pytorch/vision:v0.5.0', 'resnet18', pretrained=True)\n",
    "tlmod =  xrv.models.DenseNet(weights='all')\n",
    "for name, param in tlmod.named_parameters():\n",
    "    if(name not in ['bn']):\n",
    "        param.requires_grad = False"
   ]
  },
  {
   "cell_type": "code",
   "execution_count": null,
   "metadata": {},
   "outputs": [],
   "source": [
    "tlmod.classifier = nn.Sequential(nn.Linear(tlmod.classifier.in_features,200), nn.ReLU(), nn.Linear(200,1))"
   ]
  },
  {
   "cell_type": "code",
   "execution_count": null,
   "metadata": {},
   "outputs": [],
   "source": [
    "\"\"\"lrs= [\n",
    "{ 'params': tlmod.avgpool.parameters(), 'lr': 1e-4},\n",
    "{ 'params': tlmod.fc.parameters(), 'lr':  1e-4}\n",
    "    ]\"\"\""
   ]
  },
  {
   "cell_type": "markdown",
   "metadata": {},
   "source": [
    "### Specifying criteria for NN "
   ]
  },
  {
   "cell_type": "code",
   "execution_count": null,
   "metadata": {},
   "outputs": [],
   "source": [
    "#criterion = nn.BCELoss()\n",
    "#criterion = nn.CrossEntropyLoss()\n",
    "criterion = nn.BCEWithLogitsLoss(pos_weight=torch.tensor([.46]))#weight=torch.tensor([65, 65/30]))\n",
    "\n",
    "optimizer_conv = optim.Adam(tlmod.classifier.parameters(), lr=3e-4)\n",
    "\n"
   ]
  },
  {
   "cell_type": "code",
   "execution_count": null,
   "metadata": {},
   "outputs": [],
   "source": [
    "def label_mapper(labels):\n",
    "    \n",
    "    arr_label = np.array(labels)\n",
    "    c2_indices = np.where(arr_label==0)\n",
    "    c2_labels = np.zeros_like(arr_label)\n",
    "    c2_labels[c2_indices] = 1\n",
    "    return torch.tensor(np.vstack([arr_label, c2_labels]).T)"
   ]
  },
  {
   "cell_type": "code",
   "execution_count": null,
   "metadata": {},
   "outputs": [],
   "source": [
    "def train_model(model, criterion, optimizer, scheduler=None, num_epochs=25): \n",
    "    since = time.time()\n",
    "\n",
    "    best_model_wts = copy.deepcopy(model.state_dict())\n",
    "    best_acc = 0.0\n",
    "    for epoch in range(num_epochs):\n",
    "        print('Epoch {}/{}'.format(epoch, num_epochs - 1))\n",
    "        print('-' * 10)\n",
    "\n",
    "        # Each epoch has a training and validation phase\n",
    "        for phase in ['train', 'val']:\n",
    "            if phase == 'train':\n",
    "                model.train()  # Set model to training mode\n",
    "            else:\n",
    "                model.eval()   # Set model to evaluate mode\n",
    "\n",
    "            running_loss = 0.0\n",
    "            running_corrects = 0\n",
    "\n",
    "            # Iterate over data.\n",
    "            for value in dataloaders[phase]:\n",
    "                inputs = value['PA']\n",
    "                labels = value['lab']\n",
    "                ids = value['idx']\n",
    "                labels_ce = label_mapper(labels)\n",
    "                #print(ids)\n",
    "                #labels = labels.reshape((-1,1))\n",
    "                #print(labels.reshape((-1,1)))\n",
    "                # zero the parameter gradients\n",
    "                optimizer.zero_grad()\n",
    "\n",
    "                # forward\n",
    "                # track history if only in train\n",
    "                with torch.set_grad_enabled(phase == 'train'):\n",
    "                    outputs = model(inputs)\n",
    "                    #print(outputs)\n",
    "                    #print(outputs.shape)\n",
    "                    outputs = outputs.reshape((-1,1))\n",
    "                    labels = labels.reshape((-1,1))\n",
    "                    #print(labels)\n",
    "                    #print(outputs)\n",
    "                    _, preds = torch.max(outputs, 1)\n",
    "                    #print(outputs.shape)\n",
    "                    #print(labels_ce.shape)\n",
    "                    loss = criterion(outputs, labels)\n",
    "\n",
    "                    # backward + optimize only if in training phase\n",
    "                    if phase == 'train':\n",
    "                        #print(\"labels\", labels)\n",
    "                        #print(\"Predictions\", preds)\n",
    "\n",
    "                        loss.backward()\n",
    "                        optimizer.step()\n",
    "\n",
    "                # statistics\n",
    "                #print(labels.data)\n",
    "                #print(preds)\n",
    "                running_loss += loss.item() * inputs.size(0)\n",
    "                running_corrects += torch.sum(preds == labels.data)\n",
    "            if phase == 'train':\n",
    "                #scheduler.step()\n",
    "                pass    \n",
    "            epoch_loss = running_loss / dataset_sizes[phase]\n",
    "            epoch_acc = running_corrects.double() / dataset_sizes[phase]\n",
    "\n",
    "            print('{} Loss: {:.4f} Acc: {:.4f}'.format(\n",
    "                phase, epoch_loss, epoch_acc))\n",
    "\n",
    "            # deep copy the model\n",
    "            if phase == 'val' and epoch_acc > best_acc:\n",
    "                best_acc = epoch_acc\n",
    "                best_model_wts = copy.deepcopy(model.state_dict())\n",
    "\n",
    "        print()\n",
    "    time_elapsed = time.time() - since\n",
    "    print('Training complete in {:.0f}m {:.0f}s'.format(\n",
    "        time_elapsed // 60, time_elapsed % 60))\n",
    "    print('Best val Acc: {:4f}'.format(best_acc))\n",
    "\n",
    "    # load best model weights\n",
    "    model.load_state_dict(best_model_wts)\n",
    "    return model\n"
   ]
  },
  {
   "cell_type": "code",
   "execution_count": null,
   "metadata": {},
   "outputs": [],
   "source": [
    "mod = train_model(tlmod, criterion, optimizer_conv, num_epochs=40)"
   ]
  }
 ],
 "metadata": {
  "kernelspec": {
   "display_name": "Python 3",
   "language": "python",
   "name": "python3"
  },
  "language_info": {
   "codemirror_mode": {
    "name": "ipython",
    "version": 3
   },
   "file_extension": ".py",
   "mimetype": "text/x-python",
   "name": "python",
   "nbconvert_exporter": "python",
   "pygments_lexer": "ipython3",
   "version": "3.6.10"
  }
 },
 "nbformat": 4,
 "nbformat_minor": 4
}
